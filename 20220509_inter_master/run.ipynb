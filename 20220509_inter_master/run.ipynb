{
 "cells": [
  {
   "cell_type": "markdown",
   "id": "c798122f-3e36-413f-a3f7-029618e24d54",
   "metadata": {},
   "source": [
    "### YOLOX"
   ]
  },
  {
   "cell_type": "markdown",
   "id": "9e7f8119-fc66-451d-8952-ca2cf0a8ee5e",
   "metadata": {},
   "source": [
    "<a href=\"https://drive.google.com/file/d/1gCMIbb4iP9ZbWTVuSW0x3OylxnilBVT_\" target=\"_parent\"><img src=\"https://colab.research.google.com/assets/colab-badge.svg\" alt=\"20220328\"></a>"
   ]
  },
  {
   "cell_type": "code",
   "execution_count": null,
   "id": "e8f3292a-1ed2-474c-b466-361ff46a3457",
   "metadata": {},
   "outputs": [],
   "source": []
  }
 ],
 "metadata": {
  "kernelspec": {
   "display_name": "Python 3 (ipykernel)",
   "language": "python",
   "name": "python3"
  },
  "language_info": {
   "codemirror_mode": {
    "name": "ipython",
    "version": 3
   },
   "file_extension": ".py",
   "mimetype": "text/x-python",
   "name": "python",
   "nbconvert_exporter": "python",
   "pygments_lexer": "ipython3",
   "version": "3.8.12"
  }
 },
 "nbformat": 4,
 "nbformat_minor": 5
}
