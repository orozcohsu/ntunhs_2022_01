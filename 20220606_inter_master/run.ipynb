{
 "cells": [
  {
   "cell_type": "markdown",
   "id": "c798122f-3e36-413f-a3f7-029618e24d54",
   "metadata": {},
   "source": [
    "### ktrain01 (Day master class)"
   ]
  },
  {
   "cell_type": "markdown",
   "id": "52ff5c78-6d76-4ece-8c13-2fe252e1f67f",
   "metadata": {},
   "source": [
    "<a href=\"https://colab.research.google.com/drive/10Q3807IAKkMgWnUmZkdWi4auyRVkMMU0?usp=sharing\" target=\"_parent\"><img src=\"https://colab.research.google.com/assets/colab-badge.svg\" alt=\"20220328\"></a>"
   ]
  },
  {
   "cell_type": "markdown",
   "id": "c011fde6-6b26-4766-97b4-fee22abd2762",
   "metadata": {},
   "source": [
    "### ktrain02 (International master class)"
   ]
  },
  {
   "cell_type": "markdown",
   "id": "b54ad3bb-ec08-4d4f-8552-cc9b85b3c9c3",
   "metadata": {},
   "source": [
    "<a href=\"https://colab.research.google.com/drive/1y0G-qztjIdZ35k4OfI_yN0YsREImbNg0?usp=sharing\" target=\"_parent\"><img src=\"https://colab.research.google.com/assets/colab-badge.svg\" alt=\"20220328\"></a>"
   ]
  },
  {
   "cell_type": "markdown",
   "id": "66a37911-d7b8-46bf-9a6d-05dd2252e6f1",
   "metadata": {},
   "source": [
    "### ktrain_multi-labels_bad_performance"
   ]
  },
  {
   "cell_type": "markdown",
   "id": "fb1b0dee-5fd0-4ffa-a6ce-260bf8d23070",
   "metadata": {},
   "source": [
    "<a href=\"https://colab.research.google.com/drive/1k7zLX5RCFpzNipmvTPf8VONsu8f2hWPb?usp=sharing\" target=\"_parent\"><img src=\"https://colab.research.google.com/assets/colab-badge.svg\" alt=\"20220328\"></a>"
   ]
  },
  {
   "cell_type": "code",
   "execution_count": null,
   "id": "2f2f9915-c0a8-4f0e-9f55-1129039a788a",
   "metadata": {},
   "outputs": [],
   "source": []
  }
 ],
 "metadata": {
  "kernelspec": {
   "display_name": "Python 3 (ipykernel)",
   "language": "python",
   "name": "python3"
  },
  "language_info": {
   "codemirror_mode": {
    "name": "ipython",
    "version": 3
   },
   "file_extension": ".py",
   "mimetype": "text/x-python",
   "name": "python",
   "nbconvert_exporter": "python",
   "pygments_lexer": "ipython3",
   "version": "3.8.12"
  }
 },
 "nbformat": 4,
 "nbformat_minor": 5
}
