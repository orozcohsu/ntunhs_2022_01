{
 "cells": [
  {
   "cell_type": "code",
   "execution_count": 1,
   "id": "ba908235-f313-4821-ac0c-2d0fc2b96322",
   "metadata": {},
   "outputs": [
    {
     "name": "stdout",
     "output_type": "stream",
     "text": [
      "packages imported\n"
     ]
    }
   ],
   "source": [
    "# import the necessary packages\n",
    "import pandas as pd\n",
    "import mysql.connector\n",
    "print(\"packages imported\")\n",
    "\n",
    "#ignore warning message\n",
    "import warnings\n",
    "warnings.filterwarnings('ignore')"
   ]
  },
  {
   "cell_type": "code",
   "execution_count": 19,
   "id": "10dc3e43-e862-48ba-b6d0-dec274113a6d",
   "metadata": {},
   "outputs": [],
   "source": [
    "# make a connection to mysql database for extracting the raw data\n",
    "mydb = mysql.connector.connect(host='172.105.215.62', database='test123', user='db', password='20220306!')\n",
    "df_orders = pd.read_sql('SELECT * FROM orders', con=mydb)"
   ]
  },
  {
   "cell_type": "code",
   "execution_count": 20,
   "id": "50697925-2140-4a8a-8e0e-d287e1f0be8e",
   "metadata": {},
   "outputs": [],
   "source": [
    "#查詢 1995-10-11 ~ 1996-07-01 出口國家的訂單筆數\n",
    "df_orders=df_orders.set_index('OrderDate')\n",
    "df_orders=df_orders.loc['1995-10-11':'1996-07-01']"
   ]
  },
  {
   "cell_type": "code",
   "execution_count": 24,
   "id": "0ebe4d63-8391-4d62-854c-8599f564e1f1",
   "metadata": {},
   "outputs": [
    {
     "data": {
      "text/plain": [
       "ShipCountry\n",
       "Argentina      12\n",
       "Austria        20\n",
       "Belgium        12\n",
       "Brazil         43\n",
       "Canada         11\n",
       "Denmark         9\n",
       "Finland         9\n",
       "France         38\n",
       "Germany        55\n",
       "Ireland         8\n",
       "Italy          16\n",
       "Mexico         11\n",
       "Norway          3\n",
       "Poland          5\n",
       "Portugal        3\n",
       "Spain          13\n",
       "Sweden         21\n",
       "Switzerland    12\n",
       "UK             28\n",
       "USA            62\n",
       "Venezuela      24\n",
       "Name: OrderID, dtype: int64"
      ]
     },
     "execution_count": 24,
     "metadata": {},
     "output_type": "execute_result"
    }
   ],
   "source": [
    "df_orders.groupby(['ShipCountry'])['OrderID'].count()"
   ]
  },
  {
   "cell_type": "code",
   "execution_count": 25,
   "id": "8dc03068-371d-46fc-968b-02a8984d19bd",
   "metadata": {},
   "outputs": [],
   "source": [
    "#查詢所有銷售紀錄中，銷售業績最好的前三名業務\n",
    "df_join_table = pd.read_sql('select * from (select c.firstname,sales_price from orders a join \\\n",
    "                                 (select orderid, unitprice*quantity as sales_price from `order details`) b on a.orderid=b.orderid join \\\n",
    "                                  employees c on a.employeeid=c.employeeid) d', con=mydb)"
   ]
  },
  {
   "cell_type": "code",
   "execution_count": 51,
   "id": "f0bd6c59-337c-49e3-afc4-af1a33f6e72a",
   "metadata": {},
   "outputs": [
    {
     "data": {
      "text/plain": [
       "firstname\n",
       "Margaret    250187.45\n",
       "Janet       213051.30\n",
       "Nancy       202143.71\n",
       "Andrew      177749.26\n",
       "Robert      141295.99\n",
       "Laura       133301.03\n",
       "Anne         82964.00\n",
       "Michael      78198.10\n",
       "Steven       75567.75\n",
       "Name: sales_price, dtype: float64"
      ]
     },
     "execution_count": 51,
     "metadata": {},
     "output_type": "execute_result"
    }
   ],
   "source": [
    "df_join_table.groupby('firstname')['sales_price'].sum().sort_values(ascending=False)"
   ]
  },
  {
   "cell_type": "code",
   "execution_count": 52,
   "id": "45dc4c06-1097-4467-b4f3-8033e53696aa",
   "metadata": {},
   "outputs": [
    {
     "data": {
      "text/html": [
       "<div>\n",
       "<style scoped>\n",
       "    .dataframe tbody tr th:only-of-type {\n",
       "        vertical-align: middle;\n",
       "    }\n",
       "\n",
       "    .dataframe tbody tr th {\n",
       "        vertical-align: top;\n",
       "    }\n",
       "\n",
       "    .dataframe thead th {\n",
       "        text-align: right;\n",
       "    }\n",
       "</style>\n",
       "<table border=\"1\" class=\"dataframe\">\n",
       "  <thead>\n",
       "    <tr style=\"text-align: right;\">\n",
       "      <th></th>\n",
       "      <th>orderid</th>\n",
       "      <th>productid</th>\n",
       "      <th>sales_price</th>\n",
       "      <th>categoryname</th>\n",
       "    </tr>\n",
       "  </thead>\n",
       "  <tbody>\n",
       "    <tr>\n",
       "      <th>0</th>\n",
       "      <td>10838</td>\n",
       "      <td>1</td>\n",
       "      <td>72.0</td>\n",
       "      <td>Beverages</td>\n",
       "    </tr>\n",
       "    <tr>\n",
       "      <th>1</th>\n",
       "      <td>10847</td>\n",
       "      <td>1</td>\n",
       "      <td>1440.0</td>\n",
       "      <td>Beverages</td>\n",
       "    </tr>\n",
       "    <tr>\n",
       "      <th>2</th>\n",
       "      <td>10863</td>\n",
       "      <td>1</td>\n",
       "      <td>360.0</td>\n",
       "      <td>Beverages</td>\n",
       "    </tr>\n",
       "    <tr>\n",
       "      <th>3</th>\n",
       "      <td>10869</td>\n",
       "      <td>1</td>\n",
       "      <td>720.0</td>\n",
       "      <td>Beverages</td>\n",
       "    </tr>\n",
       "    <tr>\n",
       "      <th>4</th>\n",
       "      <td>10905</td>\n",
       "      <td>1</td>\n",
       "      <td>360.0</td>\n",
       "      <td>Beverages</td>\n",
       "    </tr>\n",
       "    <tr>\n",
       "      <th>...</th>\n",
       "      <td>...</td>\n",
       "      <td>...</td>\n",
       "      <td>...</td>\n",
       "      <td>...</td>\n",
       "    </tr>\n",
       "    <tr>\n",
       "      <th>800</th>\n",
       "      <td>11000</td>\n",
       "      <td>77</td>\n",
       "      <td>390.0</td>\n",
       "      <td>Condiments</td>\n",
       "    </tr>\n",
       "    <tr>\n",
       "      <th>801</th>\n",
       "      <td>11015</td>\n",
       "      <td>77</td>\n",
       "      <td>234.0</td>\n",
       "      <td>Condiments</td>\n",
       "    </tr>\n",
       "    <tr>\n",
       "      <th>802</th>\n",
       "      <td>11060</td>\n",
       "      <td>77</td>\n",
       "      <td>130.0</td>\n",
       "      <td>Condiments</td>\n",
       "    </tr>\n",
       "    <tr>\n",
       "      <th>803</th>\n",
       "      <td>11068</td>\n",
       "      <td>77</td>\n",
       "      <td>364.0</td>\n",
       "      <td>Condiments</td>\n",
       "    </tr>\n",
       "    <tr>\n",
       "      <th>804</th>\n",
       "      <td>11077</td>\n",
       "      <td>77</td>\n",
       "      <td>26.0</td>\n",
       "      <td>Condiments</td>\n",
       "    </tr>\n",
       "  </tbody>\n",
       "</table>\n",
       "<p>805 rows × 4 columns</p>\n",
       "</div>"
      ],
      "text/plain": [
       "     orderid  productid  sales_price categoryname\n",
       "0      10838          1         72.0    Beverages\n",
       "1      10847          1       1440.0    Beverages\n",
       "2      10863          1        360.0    Beverages\n",
       "3      10869          1        720.0    Beverages\n",
       "4      10905          1        360.0    Beverages\n",
       "..       ...        ...          ...          ...\n",
       "800    11000         77        390.0   Condiments\n",
       "801    11015         77        234.0   Condiments\n",
       "802    11060         77        130.0   Condiments\n",
       "803    11068         77        364.0   Condiments\n",
       "804    11077         77         26.0   Condiments\n",
       "\n",
       "[805 rows x 4 columns]"
      ]
     },
     "execution_count": 52,
     "metadata": {},
     "output_type": "execute_result"
    }
   ],
   "source": [
    "#查詢 1996整年度訂單銷售當中，依照分類(CategoryName)計算銷售金額\n",
    "df_1996 = pd.read_sql('select * from (select a.orderid, c.productid, b.unitprice*quantity as sales_price, categoryname from (\\\n",
    "                         select orderid from orders where year(orderdate)=1996 )a \\\n",
    "                         join `order details` b on a.orderid=b.orderid \\\n",
    "                         join products c on b.productid=c.productid \\\n",
    "                         join categories d on c.categoryid=d.categoryid)e', con=mydb)\n",
    "df_1996"
   ]
  },
  {
   "cell_type": "code",
   "execution_count": 53,
   "id": "f7393109-bac4-418e-8889-1945cc9cfb3f",
   "metadata": {},
   "outputs": [
    {
     "data": {
      "text/plain": [
       "categoryname\n",
       "Beverages         133899.00\n",
       "Condiments         40810.05\n",
       "Confections        67551.71\n",
       "Dairy Products     93394.40\n",
       "Grains/Cereals     36233.00\n",
       "Meat/Poultry       74982.00\n",
       "Produce            45463.00\n",
       "Seafood            54914.44\n",
       "Name: sales_price, dtype: float64"
      ]
     },
     "execution_count": 53,
     "metadata": {},
     "output_type": "execute_result"
    }
   ],
   "source": [
    "df_1996.groupby('categoryname')['sales_price'].sum()"
   ]
  },
  {
   "cell_type": "code",
   "execution_count": null,
   "id": "ec3fcb98-c503-4d3d-b347-01ccd611e00c",
   "metadata": {},
   "outputs": [],
   "source": []
  }
 ],
 "metadata": {
  "kernelspec": {
   "display_name": "Python 3 (ipykernel)",
   "language": "python",
   "name": "python3"
  },
  "language_info": {
   "codemirror_mode": {
    "name": "ipython",
    "version": 3
   },
   "file_extension": ".py",
   "mimetype": "text/x-python",
   "name": "python",
   "nbconvert_exporter": "python",
   "pygments_lexer": "ipython3",
   "version": "3.8.12"
  }
 },
 "nbformat": 4,
 "nbformat_minor": 5
}
