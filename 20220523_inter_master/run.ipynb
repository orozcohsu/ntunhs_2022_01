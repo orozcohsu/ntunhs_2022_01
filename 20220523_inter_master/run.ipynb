{
 "cells": [
  {
   "cell_type": "markdown",
   "id": "c798122f-3e36-413f-a3f7-029618e24d54",
   "metadata": {},
   "source": [
    "### RNN01"
   ]
  },
  {
   "cell_type": "markdown",
   "id": "9e7f8119-fc66-451d-8952-ca2cf0a8ee5e",
   "metadata": {},
   "source": [
    "<a href=\"https://colab.research.google.com/drive/17BuFfXR258LqmjYYvTN01MQ28rgKQMZe?usp=sharing\" target=\"_parent\"><img src=\"https://colab.research.google.com/assets/colab-badge.svg\" alt=\"20220328\"></a>"
   ]
  },
  {
   "cell_type": "markdown",
   "id": "c011fde6-6b26-4766-97b4-fee22abd2762",
   "metadata": {},
   "source": [
    "### RNN_LSTM_01 (Day master class)"
   ]
  },
  {
   "cell_type": "markdown",
   "id": "cdc2e3d7-63c6-4f5a-9a51-7ad22733cccf",
   "metadata": {},
   "source": [
    "<a href=\"https://colab.research.google.com/drive/1cQwWRIyvZEvMP14jx8T2PEsDNKFOQuGa?usp=sharing\" target=\"_parent\"><img src=\"https://colab.research.google.com/assets/colab-badge.svg\" alt=\"20220328\"></a>"
   ]
  },
  {
   "cell_type": "markdown",
   "id": "66a37911-d7b8-46bf-9a6d-05dd2252e6f1",
   "metadata": {},
   "source": [
    "### RNN_LSTM_02 (International master class)"
   ]
  },
  {
   "cell_type": "markdown",
   "id": "6e46e365-bac3-4c8c-9cd2-07d4899480a9",
   "metadata": {},
   "source": [
    "<a href=\"https://colab.research.google.com/drive/1E_42070Q96xl-RvGWQidR2ytygn7z4ZW?usp=sharing\" target=\"_parent\"><img src=\"https://colab.research.google.com/assets/colab-badge.svg\" alt=\"20220328\"></a>"
   ]
  },
  {
   "cell_type": "markdown",
   "id": "9a7f6906-6845-46bb-bb3a-c2b8b9e629eb",
   "metadata": {},
   "source": [
    "### RNN_LSTM_pretrain_spacy"
   ]
  },
  {
   "cell_type": "markdown",
   "id": "04b32489-2a27-48e8-91a5-6d87ace28c71",
   "metadata": {},
   "source": [
    "<a href=\"https://colab.research.google.com/drive/1_fdDEKRE-bafXOBnR4cLLlwjJstFS3Uv?usp=sharing\" target=\"_parent\"><img src=\"https://colab.research.google.com/assets/colab-badge.svg\" alt=\"20220328\"></a>"
   ]
  },
  {
   "cell_type": "markdown",
   "id": "5111c43a-4282-4b0c-ae37-0f75f2385b3e",
   "metadata": {},
   "source": [
    "### hw01"
   ]
  },
  {
   "cell_type": "markdown",
   "id": "bf7a546b-e6c0-40c9-89bb-f929b4ed5bd3",
   "metadata": {},
   "source": [
    "<a href=\"https://colab.research.google.com/drive/17khX-slzl9Ae8L08cApSWy3bFDdz1amw?usp=sharing\" target=\"_parent\"><img src=\"https://colab.research.google.com/assets/colab-badge.svg\" alt=\"20220328\"></a>"
   ]
  },
  {
   "cell_type": "code",
   "execution_count": null,
   "id": "01a5be71-f0ed-406b-bcd8-1270162f6ddd",
   "metadata": {},
   "outputs": [],
   "source": []
  }
 ],
 "metadata": {
  "kernelspec": {
   "display_name": "Python 3 (ipykernel)",
   "language": "python",
   "name": "python3"
  },
  "language_info": {
   "codemirror_mode": {
    "name": "ipython",
    "version": 3
   },
   "file_extension": ".py",
   "mimetype": "text/x-python",
   "name": "python",
   "nbconvert_exporter": "python",
   "pygments_lexer": "ipython3",
   "version": "3.8.12"
  }
 },
 "nbformat": 4,
 "nbformat_minor": 5
}
